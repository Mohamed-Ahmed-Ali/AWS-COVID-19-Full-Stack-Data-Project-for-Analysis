{
 "cells": [
  {
   "cell_type": "markdown",
   "id": "12b93a92",
   "metadata": {},
   "source": [
    "# COVID-19 Data Engineering Project"
   ]
  },
  {
   "cell_type": "markdown",
   "id": "5c3ddcf7",
   "metadata": {},
   "source": [
    "Refreshing the work I did in previous company.\n",
    "\n",
    "Performing data modeling, data wrangling and extract-load-transform on the COVID-19 Data Lake available on registry of open data AWS using various AWS tools such as boto3, Glue, S3, Athena and Redshift."
   ]
  },
  {
   "cell_type": "markdown",
   "id": "b053e4f7",
   "metadata": {},
   "source": [
    "## Code"
   ]
  },
  {
   "cell_type": "code",
   "execution_count": 61,
   "id": "411b9af1",
   "metadata": {},
   "outputs": [],
   "source": [
    "import boto3\n",
    "import pandas as pd\n",
    "from io import StringIO\n",
    "import time"
   ]
  },
  {
   "cell_type": "code",
   "execution_count": null,
   "id": "d76e5894",
   "metadata": {},
   "outputs": [],
   "source": [
    "AWS_ACCESS_KEY = ''\n",
    "AWS_SECRET_KEY = ''\n",
    "AWS_REGION = 'eu-central-1'\n",
    "SCHEMA_NAME = 'covid_19'\n",
    "S3_STAGING_DIR = 's3://oovk-covid-project-output-buck/output/'\n",
    "S3_BUCKET_NAME = 'oovk-test-bucket'\n",
    "S3_OUTPUT_DIRECTORY = 'output'\n"
   ]
  },
  {
   "cell_type": "code",
   "execution_count": null,
   "id": "cf0a8e01",
   "metadata": {},
   "outputs": [],
   "source": [
    "athena_client = boto3.client(\"athena\",\n",
    "                            aws_access_key_id = AWS_ACCESS_KEY,\n",
    "                            aws_secret_access_key_id = AWS_SECRET_KEY,\n",
    "                            region_name = AWS_REGION,)"
   ]
  },
  {
   "cell_type": "code",
   "execution_count": null,
   "id": "9b6ea807",
   "metadata": {},
   "outputs": [],
   "source": [
    "#Gets the data from athena and converts it into pandas dataframe\n",
    "Dict = {}\n",
    "def download_and_load_query_results(\n",
    "    client: boto3.client, query_response: Dict\n",
    ") -> pd.DataFrame:\n",
    "    while True:\n",
    "        try:\n",
    "            client.get_query_results(QueryExecutionId=query_response[\"QueryExecutionId\"])\n",
    "            break\n",
    "        except Exception as err:\n",
    "            if \"not yet finished\" in str(err):\n",
    "                time.sleep(0.01)\n",
    "            else:\n",
    "                raise err\n",
    "    temp_file_location: str = \"athena_query_results.csv\"\n",
    "    s3_client = boto3.client(\"s3\",\n",
    "                            aws_access_key_id = AWS_ACCESS_KEY,\n",
    "                            aws_secret_access_key_id = AWS_SECRET_KEY,\n",
    "                            region_name = AWS_REGION,)\n",
    "    s3_client.download_file(S3_BUCKET_NAME,\n",
    "                           f\"{S3_OUTPUT_DIRECTORY}/{query_response['QueryExecutionId']}.csv\",\n",
    "                           temp_file_location,)\n",
    "    return pd.read_csv(temp_file_location)"
   ]
  },
  {
   "cell_type": "code",
   "execution_count": null,
   "id": "ae70f540",
   "metadata": {},
   "outputs": [],
   "source": [
    "response = athena_client.start_query_execution(\n",
    "    QueryString=\"SELECT * FROM enigma_jhud\",\n",
    "    QueryExecutionContext={\"Database\":SCHEMA_NAME},\n",
    "    ResultConfiguration={\"OutputLocation\":S3_STAGING_DIR\n",
    "                        \"EncryptionConfiguration\":{\"EncryptionOption\":\"SSE_S3\"},\n",
    "                        },\n",
    ")\n",
    "\n",
    "enigma_jhud = download_and_load_query_results(athena_client, response)"
   ]
  },
  {
   "cell_type": "code",
   "execution_count": null,
   "id": "faa4315c",
   "metadata": {},
   "outputs": [],
   "source": [
    "response = athena_client.start_query_execution(\n",
    "    QueryString=\"SELECT * FROM nytimes_data_in_usa_us_county\",\n",
    "    QueryExecutionContext={\"Database\":SCHEMA_NAME},\n",
    "    ResultConfiguration={\"OutputLocation\":S3_STAGING_DIR\n",
    "                        \"EncryptionConfiguration\":{\"EncryptionOption\":\"SSE_S3\"},\n",
    "                        },\n",
    ")\n",
    "\n",
    "nytimes_data_in_usa_us_county = download_and_load_query_results(athena_client, response)"
   ]
  },
  {
   "cell_type": "code",
   "execution_count": null,
   "id": "52d2b2ba",
   "metadata": {},
   "outputs": [],
   "source": [
    "response = athena_client.start_query_execution(\n",
    "    QueryString=\"SELECT * FROM nytimes_data_in_usaus_states\",\n",
    "    QueryExecutionContext={\"Database\":SCHEMA_NAME},\n",
    "    ResultConfiguration={\"OutputLocation\":S3_STAGING_DIR\n",
    "                        \"EncryptionConfiguration\":{\"EncryptionOption\":\"SSE_S3\"},\n",
    "                        },\n",
    ")\n",
    "\n",
    "nytimes_data_in_usaus_states = download_and_load_query_results(athena_client, response)"
   ]
  },
  {
   "cell_type": "code",
   "execution_count": null,
   "id": "8a5b3e30",
   "metadata": {},
   "outputs": [],
   "source": [
    "response = athena_client.start_query_execution(\n",
    "    QueryString=\"SELECT * FROM countypopulation\",\n",
    "    QueryExecutionContext={\"Database\":SCHEMA_NAME},\n",
    "    ResultConfiguration={\"OutputLocation\":S3_STAGING_DIR\n",
    "                        \"EncryptionConfiguration\":{\"EncryptionOption\":\"SSE_S3\"},\n",
    "                        },\n",
    ")\n",
    "\n",
    "countypopulation = download_and_load_query_results(athena_client, response)"
   ]
  },
  {
   "cell_type": "code",
   "execution_count": null,
   "id": "69e22a65",
   "metadata": {},
   "outputs": [],
   "source": [
    "response = athena_client.start_query_execution(\n",
    "    QueryString=\"SELECT * FROM rearc_usa_hospital_beds\",\n",
    "    QueryExecutionContext={\"Database\":SCHEMA_NAME},\n",
    "    ResultConfiguration={\"OutputLocation\":S3_STAGING_DIR\n",
    "                        \"EncryptionConfiguration\":{\"EncryptionOption\":\"SSE_S3\"},\n",
    "                        },\n",
    ")\n",
    "\n",
    "rearc_usa_hospital_beds = download_and_load_query_results(athena_client, response)"
   ]
  },
  {
   "cell_type": "code",
   "execution_count": null,
   "id": "f8161734",
   "metadata": {},
   "outputs": [],
   "source": [
    "response = athena_client.start_query_execution(\n",
    "    QueryString=\"SELECT * FROM state_abv\",\n",
    "    QueryExecutionContext={\"Database\":SCHEMA_NAME},\n",
    "    ResultConfiguration={\"OutputLocation\":S3_STAGING_DIR\n",
    "                        \"EncryptionConfiguration\":{\"EncryptionOption\":\"SSE_S3\"},\n",
    "                        },\n",
    ")\n",
    "\n",
    "state_abv = download_and_load_query_results(athena_client, response)"
   ]
  },
  {
   "cell_type": "code",
   "execution_count": null,
   "id": "d42e5c69",
   "metadata": {},
   "outputs": [],
   "source": [
    "response = athena_client.start_query_execution(\n",
    "    QueryString=\"SELECT * FROM states_daily\",\n",
    "    QueryExecutionContext={\"Database\":SCHEMA_NAME},\n",
    "    ResultConfiguration={\"OutputLocation\":S3_STAGING_DIR\n",
    "                        \"EncryptionConfiguration\":{\"EncryptionOption\":\"SSE_S3\"},\n",
    "                        },\n",
    ")\n",
    "\n",
    "states_daily = download_and_load_query_results(athena_client, response)"
   ]
  },
  {
   "cell_type": "code",
   "execution_count": null,
   "id": "db1630c1",
   "metadata": {},
   "outputs": [],
   "source": [
    "response = athena_client.start_query_execution(\n",
    "    QueryString=\"SELECT * FROM us_daily\",\n",
    "    QueryExecutionContext={\"Database\":SCHEMA_NAME},\n",
    "    ResultConfiguration={\"OutputLocation\":S3_STAGING_DIR\n",
    "                        \"EncryptionConfiguration\":{\"EncryptionOption\":\"SSE_S3\"},\n",
    "                        },\n",
    ")\n",
    "\n",
    "us_daily = download_and_load_query_results(athena_client, response)"
   ]
  },
  {
   "cell_type": "code",
   "execution_count": null,
   "id": "7d3978f3",
   "metadata": {},
   "outputs": [],
   "source": [
    "response = athena_client.start_query_execution(\n",
    "    QueryString=\"SELECT * FROM us_total_latest\",\n",
    "    QueryExecutionContext={\"Database\":SCHEMA_NAME},\n",
    "    ResultConfiguration={\"OutputLocation\":S3_STAGING_DIR\n",
    "                        \"EncryptionConfiguration\":{\"EncryptionOption\":\"SSE_S3\"},\n",
    "                        },\n",
    ")\n",
    "\n",
    "us_total_latest = download_and_load_query_results(athena_client, response)"
   ]
  },
  {
   "cell_type": "code",
   "execution_count": null,
   "id": "4e63607a",
   "metadata": {},
   "outputs": [],
   "source": [
    "us_total_latest.head() #Checking the dataframe"
   ]
  },
  {
   "cell_type": "markdown",
   "id": "1d95de12",
   "metadata": {},
   "source": [
    "## Building Dimensional Model"
   ]
  },
  {
   "cell_type": "code",
   "execution_count": null,
   "id": "ac7b01f6",
   "metadata": {},
   "outputs": [],
   "source": [
    "factCovid_1 = enigma_jhud[['fips','province_state','country_region','confirmed','deaths','recovered','active']]\n",
    "factCovid_2 = us_daily[['fips','date','positive','negative','hospitalizedcurrently','hospitalized','hospitalizeddischarged']]\n",
    "factCovid = pd.merge(factCovid_1,factCovid_2,on='fips',how='inner')"
   ]
  },
  {
   "cell_type": "code",
   "execution_count": null,
   "id": "c71063e4",
   "metadata": {},
   "outputs": [],
   "source": [
    "factCovid.shape"
   ]
  },
  {
   "cell_type": "code",
   "execution_count": null,
   "id": "4ba90142",
   "metadata": {},
   "outputs": [],
   "source": [
    "dimRegion_1 = enigma_jhud[['fips','province_state','country_region','latitude','longitude']]\n",
    "dimRegion_2 = nytimes_data_in_usa_us_county[['fips','county','state']]\n",
    "dimRegion = pd.merge(dimRegion_1,dimRegion_2,on='fips',how='inner')"
   ]
  },
  {
   "cell_type": "code",
   "execution_count": null,
   "id": "1e77bdf2",
   "metadata": {},
   "outputs": [],
   "source": [
    "dimHospital = rearc_usa_hospital_beds[['fips','state_name','latitude','longitude','hq_address','hospital_name','hospital_type','hq_city','hq_state']]"
   ]
  },
  {
   "cell_type": "code",
   "execution_count": null,
   "id": "239af5d2",
   "metadata": {},
   "outputs": [],
   "source": [
    "dimDate = states_daily[['fips','date']]"
   ]
  },
  {
   "cell_type": "code",
   "execution_count": null,
   "id": "03aa5482",
   "metadata": {},
   "outputs": [],
   "source": [
    "dimDate.head()"
   ]
  },
  {
   "cell_type": "code",
   "execution_count": null,
   "id": "fe793a1e",
   "metadata": {},
   "outputs": [],
   "source": [
    "dimDate['date'] = pd.to_datetime(dimDate['date'], format='%Y%m%d')"
   ]
  },
  {
   "cell_type": "code",
   "execution_count": null,
   "id": "996271c1",
   "metadata": {},
   "outputs": [],
   "source": [
    "dimDate['year'] = dimDate['date'].dt.year\n",
    "dimDate['date'] = dimDate['date'].dt.month\n",
    "dimDate['day_of_week'] = dimDate['date'].dt.dayofweek"
   ]
  },
  {
   "cell_type": "markdown",
   "id": "810d9e73",
   "metadata": {},
   "source": [
    "## Saving to S3"
   ]
  },
  {
   "cell_type": "code",
   "execution_count": null,
   "id": "4401b70e",
   "metadata": {},
   "outputs": [],
   "source": [
    "bucket = 'oovk-covid-project-output-buck'"
   ]
  },
  {
   "cell_type": "code",
   "execution_count": null,
   "id": "6fcfef87",
   "metadata": {},
   "outputs": [],
   "source": [
    "csv_buffer = StringIO()\n",
    "factCovid.to_csv(csv_buffer)\n",
    "s3_resource = boto3.resource('s3')\n",
    "s3_resource.Object(bucket,'output/factCovid.csv').put(Body=csv_buffer.getvalue())\n"
   ]
  },
  {
   "cell_type": "code",
   "execution_count": null,
   "id": "2f6592cc",
   "metadata": {},
   "outputs": [],
   "source": [
    "csv_buffer.getvalue()"
   ]
  },
  {
   "cell_type": "markdown",
   "id": "7ade61b9",
   "metadata": {},
   "source": [
    "## Extracting schema from dataset"
   ]
  },
  {
   "cell_type": "code",
   "execution_count": null,
   "id": "966f9a79",
   "metadata": {},
   "outputs": [],
   "source": [
    "dimDatesql = pd.io.sql.get_schema(dimDate.reset_index(),'dimDate')\n",
    "print(''.join(dimDatesql))"
   ]
  },
  {
   "cell_type": "code",
   "execution_count": null,
   "id": "aef53cdf",
   "metadata": {},
   "outputs": [],
   "source": [
    "factCovidsql = pd.io.sql.get_schema(factCovid.reset_index(),'factCovid')\n",
    "print(''.join(factCovidsql))"
   ]
  },
  {
   "cell_type": "code",
   "execution_count": null,
   "id": "fd270d0e",
   "metadata": {},
   "outputs": [],
   "source": [
    "dimRegionsql = pd.io.sql.get_schema(dimRegion.reset_index(),'dimRegion')\n",
    "print(''.join(dimRegionsql))"
   ]
  },
  {
   "cell_type": "code",
   "execution_count": null,
   "id": "d35eda3d",
   "metadata": {},
   "outputs": [],
   "source": [
    "dimHospitalsql = pd.io.sql.get_schema(dimHospital.reset_index(),'dimHospital')\n",
    "print(''.join(dimHospitalsql))"
   ]
  },
  {
   "cell_type": "markdown",
   "id": "b5f8be7f",
   "metadata": {},
   "source": [
    "## Redshift Connector"
   ]
  },
  {
   "cell_type": "code",
   "execution_count": 64,
   "id": "e676f3a8",
   "metadata": {},
   "outputs": [],
   "source": [
    "import redshift_connector"
   ]
  },
  {
   "cell_type": "code",
   "execution_count": null,
   "id": "0dff6e9c",
   "metadata": {},
   "outputs": [],
   "source": [
    "conn = redshift_connector.connect(\n",
    "    host='',\n",
    "    databse='dev',\n",
    "    user='awsuser',\n",
    "    password='Passw0rd123'\n",
    ")"
   ]
  },
  {
   "cell_type": "code",
   "execution_count": null,
   "id": "8ee0fc5f",
   "metadata": {},
   "outputs": [],
   "source": [
    "conn.autocommit = True"
   ]
  },
  {
   "cell_type": "code",
   "execution_count": null,
   "id": "fd42e592",
   "metadata": {},
   "outputs": [],
   "source": [
    "cursor=redshift_connector.Cursor = conn.cursor()"
   ]
  },
  {
   "cell_type": "code",
   "execution_count": null,
   "id": "44a62cc5",
   "metadata": {},
   "outputs": [],
   "source": [
    "cursor.execute(\"\"\"\n",
    "CREATE TABLE \"dimDate\" (\n",
    "\"index\" INTEGER,\n",
    "\"fips\" INTEGER,\n",
    "\"date\" TIMESTAMP,\n",
    "\"year\" INTEGER,\n",
    "\"month\" INTEGER,\n",
    "\"day_of_week\" INTEGER\n",
    ")\n",
    "\"\"\")"
   ]
  },
  {
   "cell_type": "code",
   "execution_count": null,
   "id": "160eb9fb",
   "metadata": {},
   "outputs": [],
   "source": [
    "cursor.execute(\"\"\"\n",
    "CREATE TABLE \"dimHospital\" (\n",
    "\"index\" INTEGER,\n",
    "\"fips\" REAL,\n",
    "\"state_name\" TEXT,\n",
    "\"longitutde\" REAL,\n",
    "\"latitude\" REAL,\n",
    "\"hq_address\" TEXT,\n",
    "\"hospital_name\" TEXT,\n",
    "\"hospital_type\" TEXT,\n",
    "\"hq_city\" TEXT,\n",
    "\"hq_state\" TEXT,\n",
    ")\n",
    "\"\"\")\n",
    "\n",
    "cursor.execute(\"\"\"\n",
    "CREATE TABLE \"factCovid\" (\n",
    "\"index\" INTEGER,\n",
    "\"fips\" REAL,\n",
    "\"province_state\" TEXT,\n",
    "\"country_region\" TEXT,\n",
    "\"confirmed\" REAL,\n",
    "\"deaths\" REAL,\n",
    "\"recovered\" REAL,\n",
    "\"active\" REAL,\n",
    "\"date\" INTEGER,\n",
    "\"positive\" REAL,\n",
    "\"negative\" REAL,\n",
    "\"hospitalizedcurrently\" REAL,\n",
    "\"hospitalized\" REAL,\n",
    "\"hospitalizeddischarged\" REAL\n",
    ")\n",
    "\"\"\")"
   ]
  },
  {
   "cell_type": "code",
   "execution_count": null,
   "id": "3a5f86f8",
   "metadata": {},
   "outputs": [],
   "source": [
    "cursor.execute(\"\"\"\n",
    "CREATE TABLE \"dimRegion\" (\n",
    "\"index\" INTEGER,\n",
    "\"fips\" REAL,\n",
    "\"province_state\" TEXT,\n",
    "\"country_region\" TEXT,\n",
    "\"latitude\" REAL,\n",
    "\"longititude\" REAL,\n",
    "\"county\" TEXT,\n",
    "\"state\" TEXT\n",
    ")\n",
    "\"\"\")"
   ]
  },
  {
   "cell_type": "code",
   "execution_count": null,
   "id": "13d221c1",
   "metadata": {},
   "outputs": [],
   "source": [
    "cursor.execute(\"\"\"\n",
    "copy dimDate from 's3_uri'\n",
    "credentials 'aws_iam_role=arn:aws:iam:iamrole'\n",
    "delimiter ','\n",
    "region 'ap-south-1'\n",
    "IGNOREHEADER 1\n",
    "\"\"\")"
   ]
  },
  {
   "cell_type": "markdown",
   "id": "5c31f831",
   "metadata": {},
   "source": [
    "## We can also upload this script into glue and run glue jobs."
   ]
  },
  {
   "cell_type": "code",
   "execution_count": null,
   "id": "de1604b1",
   "metadata": {},
   "outputs": [],
   "source": []
  }
 ],
 "metadata": {
  "kernelspec": {
   "display_name": "Python 3.8.6 64-bit ('myenv': conda)",
   "language": "python",
   "name": "python386jvsc74a57bd0857970f990130bbcaee778cf1846f7875676d945310dca1379fe4b5ef3d258a5"
  },
  "language_info": {
   "codemirror_mode": {
    "name": "ipython",
    "version": 3
   },
   "file_extension": ".py",
   "mimetype": "text/x-python",
   "name": "python",
   "nbconvert_exporter": "python",
   "pygments_lexer": "ipython3",
   "version": "3.8.6"
  }
 },
 "nbformat": 4,
 "nbformat_minor": 5
}
